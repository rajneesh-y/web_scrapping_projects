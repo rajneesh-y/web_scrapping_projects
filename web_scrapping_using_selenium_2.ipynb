{
 "cells": [
  {
   "cell_type": "code",
   "execution_count": 3,
   "id": "aa4f5043",
   "metadata": {},
   "outputs": [],
   "source": [
    "from selenium import webdriver\n",
    "from selenium.webdriver.common.by import By\n",
    "from selenium.webdriver.common.keys import Keys\n",
    "from selenium.webdriver.support.ui import WebDriverWait\n",
    "from selenium.webdriver.support import expected_conditions as EC"
   ]
  },
  {
   "cell_type": "code",
   "execution_count": 4,
   "id": "c40906ac",
   "metadata": {},
   "outputs": [
    {
     "name": "stderr",
     "output_type": "stream",
     "text": [
      "C:\\Users\\Rajneesh Yadav\\AppData\\Local\\Temp\\ipykernel_7016\\1618049910.py:3: DeprecationWarning: executable_path has been deprecated, please pass in a Service object\n",
      "  driver=webdriver.Chrome(PATH)\n"
     ]
    }
   ],
   "source": [
    "#PATH=\"F:\\Selenium\\chromedriver.exe\"\n",
    "PATH='F:\\\\Selenium\\\\venv\\\\lib\\\\site-packages\\\\chromedriver_autoinstaller\\\\106\\\\chromedriver.exe'\n",
    "driver=webdriver.Chrome(PATH)"
   ]
  },
  {
   "cell_type": "code",
   "execution_count": 5,
   "id": "bb7a74ff",
   "metadata": {},
   "outputs": [],
   "source": [
    "driver.get(\"https://www.techwithtim.net/\")"
   ]
  },
  {
   "cell_type": "code",
   "execution_count": 6,
   "id": "e01af2a4",
   "metadata": {},
   "outputs": [],
   "source": [
    "search=driver.find_element(\"name\", \"s\")\n",
    "search.send_keys(\"test\")\n",
    "search.send_keys(Keys.RETURN)"
   ]
  },
  {
   "cell_type": "code",
   "execution_count": 8,
   "id": "68895b4c",
   "metadata": {},
   "outputs": [],
   "source": [
    "driver.back()"
   ]
  },
  {
   "cell_type": "code",
   "execution_count": 12,
   "id": "0d5d9bb9",
   "metadata": {},
   "outputs": [
    {
     "name": "stdout",
     "output_type": "stream",
     "text": [
      "November 4, 2019\n",
      "November 4, 2019\n",
      "October 29, 2019\n",
      "October 28, 2019\n",
      "September 8, 2019\n",
      "September 8, 2019\n",
      "September 4, 2019\n",
      "July 19, 2019\n",
      "July 18, 2019\n",
      "July 11, 2019\n"
     ]
    }
   ],
   "source": [
    "main=driver.find_element(\"id\",\"main\")\n",
    "articles=main.find_elements(By.TAG_NAME,\"article\")\n",
    "for article in articles:\n",
    "    header=article.find_element(By.CLASS_NAME,\"entry-header\")\n",
    "    print(header.text)\n",
    "main=driver.find_element(\"id\",\"main\")\n",
    "next_btn=main.find_element(By.LINK_TEXT,\"Next →\")\n",
    "next_btn.click()"
   ]
  },
  {
   "cell_type": "code",
   "execution_count": 30,
   "id": "8847f347",
   "metadata": {},
   "outputs": [
    {
     "name": "stdout",
     "output_type": "stream",
     "text": [
      "February 12, 2019\n",
      "February 4, 2019\n",
      "February 3, 2019\n",
      "January 28, 2019\n",
      "January 26, 2019\n",
      "January 23, 2019\n",
      "January 22, 2019\n",
      "January 20, 2019\n",
      "January 17, 2019\n",
      "January 16, 2019\n",
      "---------------------\n",
      "November 4, 2019\n",
      "November 4, 2019\n",
      "October 29, 2019\n",
      "October 28, 2019\n",
      "September 8, 2019\n",
      "September 8, 2019\n",
      "September 4, 2019\n",
      "July 19, 2019\n",
      "July 18, 2019\n",
      "July 11, 2019\n",
      "---------------------\n",
      "July 9, 2019\n",
      "May 14, 2019\n",
      "May 14, 2019\n",
      "May 14, 2019\n",
      "May 14, 2019\n",
      "May 14, 2019\n",
      "May 14, 2019\n",
      "April 16, 2019\n",
      "April 11, 2019\n",
      "March 30, 2019\n",
      "---------------------\n",
      "February 12, 2019\n",
      "February 4, 2019\n",
      "February 3, 2019\n",
      "January 28, 2019\n",
      "January 26, 2019\n",
      "January 23, 2019\n",
      "January 22, 2019\n",
      "January 20, 2019\n",
      "January 17, 2019\n",
      "January 16, 2019\n",
      "---------------------\n"
     ]
    }
   ],
   "source": [
    "for i in range(1,5):\n",
    "    main=driver.find_element(\"id\",\"main\")\n",
    "    articles=main.find_elements(By.TAG_NAME,\"article\")\n",
    "    for article in articles:\n",
    "        header=article.find_element(By.CLASS_NAME,\"entry-header\")\n",
    "        print(header.text)\n",
    "    print(\"---------------------\")\n",
    "    next_btn=main.find_element(By.LINK_TEXT,\"{}\".format(i))\n",
    "    next_btn.click()\n",
    "    "
   ]
  },
  {
   "cell_type": "code",
   "execution_count": 38,
   "id": "3c8eeac1",
   "metadata": {},
   "outputs": [
    {
     "name": "stdout",
     "output_type": "stream",
     "text": [
      "Sets Just like in math, Java has something called a set. The formal definition of a set is: an un-ordered collection of unique elements. This means that we cannot have duplicate elements in our set and that no order is retained while storing and using the set. Note, that an array can be defined as […]\n",
      "-------------------------------------------\n",
      "  In this tutorial we will be creating multiple models and saving ones that generate the best scores. We will also be plotting our data points to see a graphical representation of data correlation. Installing Packages In this tutorial we will need to install one more module called matplotlib. We will also be using the […]\n",
      "-------------------------------------------\n",
      "This tutorial will be dedicated to understanding how the linear regression algorithm works and implementing it to make predictions using our data set. For a very detailed explanation of how this algorithm works please watch the video. How Does it Work? Linear Regression is essentially just a best fit line. Given a set of data […]\n",
      "-------------------------------------------\n",
      "This tutorial is going be to dedicated to understanding how to properly manipulate data sets and get data in a useful form. Since we are going to be using large data sets throughout all of the future tutorials this is very important to understand. Installing Necessary Packages To make loading in our data easier we […]\n",
      "-------------------------------------------\n",
      "This tutorial is dedicated to setting up a virtual environment and installing tensorflow and keras into that environment so we are ready to start coding in later environments. Please closely follow along with the video or text below as you will not be able to continue with the tutorial if you do not setup your […]\n",
      "-------------------------------------------\n",
      "Before starting please ensure that you have downloaded and installed python 3.0+ from the python website. A Little Bit About Python Python is a very beginner friendly language. Its syntax (words, structure and commands) is very similar to English which allows it to be learned quickly. It is an extremely powerful language that is used […]\n",
      "-------------------------------------------\n",
      "Starter File To make our lives a little easier I have I have included a starter file that has the code for some of the more tedious parts of the game. Please copy the code below into your python script before starting. If you’d like an in-depth explanation of the starter file please refer to […]\n",
      "-------------------------------------------\n",
      "====================================================\n",
      "HTTP MethodsIn this tutorial we will talk about HTTP methods. HTTP methods are the standard way of sending information to and from a web server. To break it down, a website runs on a server or multiple servers and simple returns information to a client (web-browser). Information is exchanged between the client and the server […]\n",
      "-------------------------------------------\n",
      "Creating a Base Template So you may have realized that creating new web pages for every single page on our website is extremely inefficient. Especially when our website follows a theme and has similar elements (like a sidebar) on every page. This is where template inheritance comes in. We will talk about how to inherit […]\n",
      "-------------------------------------------\n",
      "Redirecting ContinuedStarting from where we left off in the last tutorial. I wanted to show how to redirect to a function that takes an argument (like our user function). To do this we simply need to define the parameter name and a value in the url_for function, like below.from flask import Flask, redirect, url_for app […]\n",
      "-------------------------------------------\n",
      "What is Flask?Flask is a known as a micro web framework. This means it provides some basic functionality to allow developers to build simple websites. It does not come with all the bells and whistles like some other web frameworks like django have and therefore is typically not used for complex websites. However, there is […]\n",
      "-------------------------------------------\n",
      "Up until this point we have only been able to get events the next upcoming events from our google calendar. In this tutorial I will show you how you can retrieve a list of events that occur in one day. Using Pyttsx3 In the previous tutorials we used gTTS (Google Text-to-Speech) to output audio and […]\n",
      "-------------------------------------------\n",
      "In this tutorial we will finish our get_date() function and test it out! PLEASE USE THE CODE BELOW, IT FIXES SOME ERRORS FROM THE VIDEO ABOVE Finishing get_date() Now that we have extracted the information from the text it’s time to process it. There are a few scenarios we need to consider: 1. We have […]\n",
      "-------------------------------------------\n",
      "Getting User Input In the last tutorial we learned how to output sound from our python script using the gTTS module. In this video we will do the opposite, we will get user input and turn it into text data that we can process. Let’s get started by creating a function called get_audio. def get_audio(): […]\n",
      "-------------------------------------------\n",
      "This PyQt5 Tutorial will show you how to create message boxes/popup windows using pyqt. We will use the QMessageBox class to accomplish this. Creating a Basic GUI I’ve started this tutorial by creating a very minimal GUI that contains one button. This way we can use the button press to trigger a popup/mesagebox. This is […]\n",
      "-------------------------------------------\n",
      "This PyQt5 Combobox tutorial will show how to create, use and manipulate comboboxes. For those of you unaware a combobox is a box that allows you to choose an item from a list of choices. Creating The GUI For this tutorial we will create a GUI that can simulate the XOR function. We will use […]\n",
      "-------------------------------------------\n",
      "This PyQt5 tutorial will show you how to display images using something called a QPixmap. Displaying an Image For this tutorial we will create an image using PyQt Designer and then change them image source from our python code. To display an image we can actually use a label! We will start by dragging in […]\n",
      "-------------------------------------------\n",
      "====================================================\n",
      "This pyqt5 menubar tutorial will show you how to create menus, link menu buttons to functions/methods and display text in the status bar when hovering over items. Creating the GUI We will be using Qt-Designer to create the GUI for this tutorial. I’ve made my gui look like the following: – To add a menu […]\n",
      "-------------------------------------------\n",
      "Saving the Model Up until this point we have simply been retraining our models every time that we wanted to use them. This is fine for now on our small models that take only a few seconds to train but for larger models this is not realistic. Luckily for us keras provides a very easy […]\n",
      "-------------------------------------------\n",
      "Validation Data For this specific model we will introduce a new idea of validation data. In the last tutorial when we trained the models accuracy after each epoch on the current training data, data the model had seen before. This can be problematic as it is highly possible the a model can simply memorize input […]\n",
      "-------------------------------------------\n",
      "Text Classification Another large application of neural networks is text classification. In these next few tutorials we will use a neural network to classify movie reviews as either positive or negative. Install Previous Version of Numpy There is a bug when using this specific dataset that requires us to install the previous version of numpy, […]\n",
      "-------------------------------------------\n",
      "Using the Model Now that we have trained the model it is time to actually use it! We will pick a few images from our testing data, show them on the screen and then use the model to predict what they are. To make predictions we use our model name and .predict() passing it a […]\n",
      "-------------------------------------------\n",
      "Creating the Model Now time to create our first neural network model! We will do this by using the Sequential object from keras. A Sequential model simply defines a sequence of layers starting with the input layer and ending with the output layer. Our model will have 3 layers, and input layer of 784 neurons […]\n",
      "-------------------------------------------\n",
      "Installing Tensorflow 2.0 Before we can start loading in the data that we will feed our neural network we must install tensorflow 2.0. If you are on windows it is as easy as typing the following (this is the cpu version): pip install -q tensorflow==2.0.0-alpha0 If you are having any troubles try following the instructions […]\n",
      "-------------------------------------------\n",
      "Tree Data Structure In this programming problem we will be talking about a Tree data structure. For our purposes we will use this data structure to simulate a python dictionary where each node in our tree has a key and a value. Python Implementation class Node: def __init__(self, key, value, left=None, right=None): self.key = key […]\n",
      "-------------------------------------------\n",
      "What is Django Django is a very popular and widely used full stack web development framework for python. It is used by large companies like Instagram and pintrest! The main advantage of django is that you program almost everything using only python. Installing Django Django is a python module and can be installed via pip. […]\n",
      "-------------------------------------------\n",
      "Download All: Problem This is an intermediate level programming problem. It shouldn’t take you more than 20 minutes to complete. For your reference it took me (Tech With Tim) 5 minutes to complete. Testing To test your own solution simply download the test files from above and place your code in the function “run()”. Here’s […]\n",
      "-------------------------------------------\n",
      "====================================================\n"
     ]
    },
    {
     "name": "stdout",
     "output_type": "stream",
     "text": [
      "Breadth First Search Algorithm The breadth first search algorithm is a very famous algorithm that is used to traverse a tree or graph data structure. It is guaranteed to find the shortest path from a start node to an end node if such path exists. This algorithm can be used for a variety of different […]\n",
      "-------------------------------------------\n",
      "In this kivy tutorial python we will create a basic GUI that represents a form. The form will have input for a first name, last name and email address. To do this we will be using something called a grid layout, labels and text input boxes. Importing Modules Before we can start we need to […]\n",
      "-------------------------------------------\n",
      "What is Kivy? Kivy is a python module that allows for the creation of cross compatible applications using python. It makes it very easy to reuse the same code on IOS, Andorid, Mac, Windows, Linux and virtually all other well known operating systems. Creating apps with kivy is great as your code works on every […]\n",
      "-------------------------------------------\n",
      "Discord.py Rewrite At the time of creating this tutorial there is two versions of Discord.py. One is an older stable version and the other is known as Discord.py rewrite. For this tutorial we will use the rewrite version as it is newer and will be used in the future. Note: Currently Discord.py rewrite is only […]\n",
      "-------------------------------------------\n",
      "K-Means Clustering K Means clustering is an unsupervised learning algorithm that attempts to divide our training data into k unique clusters to classify information. This means this algorithm does not require labels for given test data. It is responsible for learning the differences between our data points and determine what features determining what class. Supervised […]\n",
      "-------------------------------------------\n",
      "Implementing a SVM Implementing the SVM is actually fairly easy. We can simply create a new model and call .fit() on our training data. from sklearn import svm clf = svm.SVC() clf.fit(x_train, y_train) To score our data we will use a useful tool from the sklearn module. from sklearn import metrics y_pred = clf.predict(x_test) # […]\n",
      "-------------------------------------------\n",
      "What a SVM Does? A SVM has a large list of applicable uses. However, in machine learning it is typically used for classification. It is a powerful tool that is a good choice for classifying complicated data with a high degree of dimensions(features). Note that K-Nearest Neighbors does not perform well on high-dimensional data. How […]\n",
      "-------------------------------------------\n",
      "Support Vector Machines (SVM) SVM stands for a support vector machine. SVM’s are typically used for classification tasks similar to what we did with K Nearest Neighbors. They work very well for high dimensional data and are allow for us to classify data that does not have a linear correspondence. For example classifying a data […]\n",
      "-------------------------------------------\n",
      "https://www.youtube.com/watch?v=TQKI0KE-JYY[\\embed] For the official SkLearn KNN documentation click here. Training a KNN Classifier Creating a KNN Classifier is almost identical to how we created the linear regression model. The only difference is we can specify how many neighbors to look for as the argument n_neighbors. from sklearn.neighbors import KNeighborsClassifier model = KNeighborsClassifier(n_neighbors=9) To train our […]\n",
      "-------------------------------------------\n",
      "Introduction to KNN KNN stands for K-Nearest Neighbors. KNN is a machine learning algorithm used for classifying data. Rather than coming up with a numerical prediction such as a students grade or stock price it attempts to classify data into certain categories. In the next few tutorials we will be using this algorithm to classify […]\n",
      "-------------------------------------------\n",
      "====================================================\n"
     ]
    }
   ],
   "source": [
    "for i in range(1,5):\n",
    "    main=driver.find_element(\"id\",\"main\")\n",
    "    articles=main.find_elements(By.TAG_NAME,\"article\")\n",
    "    for article in articles:\n",
    "        header=article.find_element(By.CLASS_NAME,\"entry-summary\")\n",
    "        print(header.text)\n",
    "        print(\"-------------------------------------------\")\n",
    "    print(\"====================================================\")\n",
    "    next_btn=main.find_element(By.LINK_TEXT,\"{}\".format(i))\n",
    "    next_btn.click()"
   ]
  },
  {
   "cell_type": "code",
   "execution_count": 27,
   "id": "c2e8c0ea",
   "metadata": {},
   "outputs": [],
   "source": [
    "driver.back()"
   ]
  }
 ],
 "metadata": {
  "kernelspec": {
   "display_name": "Python 3 (ipykernel)",
   "language": "python",
   "name": "python3"
  },
  "language_info": {
   "codemirror_mode": {
    "name": "ipython",
    "version": 3
   },
   "file_extension": ".py",
   "mimetype": "text/x-python",
   "name": "python",
   "nbconvert_exporter": "python",
   "pygments_lexer": "ipython3",
   "version": "3.10.5"
  }
 },
 "nbformat": 4,
 "nbformat_minor": 5
}
