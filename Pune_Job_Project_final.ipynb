{
 "cells": [
  {
   "cell_type": "code",
   "execution_count": 1,
   "id": "3e8fbbac",
   "metadata": {},
   "outputs": [],
   "source": [
    "from selenium import webdriver\n",
    "from selenium.webdriver.common.by import By\n",
    "import requests\n",
    "import shutil\n",
    "from PIL import Image\n",
    "import os\n",
    "import pandas as pd"
   ]
  },
  {
   "cell_type": "code",
   "execution_count": 2,
   "id": "eea209b9",
   "metadata": {},
   "outputs": [
    {
     "name": "stderr",
     "output_type": "stream",
     "text": [
      "C:\\Users\\Rajneesh Yadav\\AppData\\Local\\Temp\\ipykernel_10160\\2173384600.py:2: DeprecationWarning: executable_path has been deprecated, please pass in a Service object\n",
      "  driver=webdriver.Chrome(PATH)\n"
     ]
    }
   ],
   "source": [
    "PATH='F:\\\\Selenium\\\\venv\\\\lib\\\\site-packages\\\\chromedriver_autoinstaller\\\\106\\\\chromedriver.exe'#Please give path of your chromedriver\n",
    "driver=webdriver.Chrome(PATH)\n",
    "driver.get(\"https://dermnetnz.org/image-library/\")"
   ]
  },
  {
   "cell_type": "code",
   "execution_count": 3,
   "id": "3f47bd37",
   "metadata": {},
   "outputs": [],
   "source": [
    "anchor_loc=driver.find_element(By.XPATH,\"html/body/div[2]/div[5]/div/div/div/div[3]\")\n",
    "anchors=anchor_loc.find_elements(By.TAG_NAME,'a')"
   ]
  },
  {
   "cell_type": "code",
   "execution_count": 4,
   "id": "09b6e833",
   "metadata": {},
   "outputs": [],
   "source": [
    "current_directory = os.getcwd()\n",
    "final_directory = os.path.join(current_directory, r'image_icon')\n",
    "if not os.path.exists(final_directory):\n",
    "   os.makedirs(final_directory)\n",
    "path=os.path.join(current_directory,'image_icon')"
   ]
  },
  {
   "cell_type": "code",
   "execution_count": 5,
   "id": "eddc2a4a",
   "metadata": {},
   "outputs": [],
   "source": [
    "count=0\n",
    "disease_url_image_list=[]\n",
    "for anchor in anchors:\n",
    "    disease_name=anchor.text\n",
    "    disease_url=anchor.get_attribute('href')\n",
    "    img=anchor.find_element(By.TAG_NAME,'img')\n",
    "    src=img.get_attribute('src')\n",
    "    disease_url_image_list.append([disease_name,disease_url,src])\n",
    "    r = requests.get(src, stream=True)\n",
    "    r.raw.decode_content = True\n",
    "    im1 = Image.open(r.raw)\n",
    "    count+=1\n",
    "    if src.split('/')[-1].split('.')[-1]=='jpg':\n",
    "        image_path=\"{}\\{}.jpg\".format(path,count)\n",
    "    else:\n",
    "        image_path=\"{}\\{}.png\".format(path,count)\n",
    "    im1.save(image_path)\n",
    "df = pd.DataFrame(disease_url_image_list, columns =['Name of Diseases', 'URLs associated with diseases','Icon images of diseases'])\n",
    "df.to_csv(\"{}\\{}\".format(current_directory,'disease_name_urls.csv'),index=False)"
   ]
  },
  {
   "cell_type": "code",
   "execution_count": 69,
   "id": "e7bfab89",
   "metadata": {},
   "outputs": [],
   "source": [
    "disease_url_image_list=[]\n",
    "for anchor in anchors:\n",
    "    disease_name=anchor.text\n",
    "    disease_url=anchor.get_attribute('href')\n",
    "    img=anchor.find_element(By.TAG_NAME,'img')\n",
    "    src=img.get_attribute('src')\n",
    "    disease_url_image_list.append([disease_name,disease_url,src])\n",
    "    r = requests.get(src, stream=True)\n",
    "    r.raw.decode_content = True\n",
    "    im1 = Image.open(r.raw)\n",
    "    image_path=\"{}\\{}.png\".format(path,img.get_attribute('src').split('/')[-1])\n",
    "    im1.save(image_path)\n",
    "df = pd.DataFrame(disease_url_image_list, columns =['Name of Diseases', 'URLs associated with diseases','Icon images of diseases'])\n",
    "df.to_csv(\"{}\\{}\".format(current_directory,'disease_name_urls.csv'),index=False)"
   ]
  },
  {
   "cell_type": "code",
   "execution_count": 49,
   "id": "61a12fc7",
   "metadata": {},
   "outputs": [],
   "source": [
    "disease_url_dict={'Name Of Diseases':'URLs associated with Diseases'}\n",
    "for anchor in anchors:\n",
    "    disease_url_dict[anchor.text]=anchor.get_attribute('href')\n",
    "    img=anchor.find_element(By.TAG_NAME,'img')\n",
    "    src=img.get_attribute('src')\n",
    "    r = requests.get(src, stream=True)\n",
    "    r.raw.decode_content = True\n",
    "    im1 = Image.open(r.raw)\n",
    "    image_path=\"{}\\{}.png\".format(path,img.get_attribute('src').split('/')[-1])\n",
    "    im1.save(image_path)\n",
    "df = pd.DataFrame.from_dict(disease_url_dict.items())\n",
    "df.columns = df.iloc[0]\n",
    "df = df[1:]\n",
    "df.to_csv(\"{}\\{}\".format(current_directory,'disease_name_urls.csv'),index=False)"
   ]
  },
  {
   "cell_type": "code",
   "execution_count": 51,
   "id": "26e64963",
   "metadata": {},
   "outputs": [],
   "source": [
    "def mystery(n):\n",
    "    v=0\n",
    "    for j in range(1,n+1):\n",
    "        sum=0\n",
    "        for i in range(1,j+1):\n",
    "            sum=sum+pow(10,j-i)\n",
    "        t=sum*j \n",
    "        v=v+t\n",
    "    return v"
   ]
  },
  {
   "cell_type": "code",
   "execution_count": 60,
   "id": "29d3b8c6",
   "metadata": {},
   "outputs": [
    {
     "name": "stdout",
     "output_type": "stream",
     "text": [
      "356\n"
     ]
    },
    {
     "data": {
      "text/plain": [
       "356"
      ]
     },
     "execution_count": 60,
     "metadata": {},
     "output_type": "execute_result"
    }
   ],
   "source": [
    "mystery(3)"
   ]
  }
 ],
 "metadata": {
  "kernelspec": {
   "display_name": "Python 3 (ipykernel)",
   "language": "python",
   "name": "python3"
  },
  "language_info": {
   "codemirror_mode": {
    "name": "ipython",
    "version": 3
   },
   "file_extension": ".py",
   "mimetype": "text/x-python",
   "name": "python",
   "nbconvert_exporter": "python",
   "pygments_lexer": "ipython3",
   "version": "3.10.5"
  }
 },
 "nbformat": 4,
 "nbformat_minor": 5
}
