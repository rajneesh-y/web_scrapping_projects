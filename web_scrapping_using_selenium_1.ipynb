{
 "cells": [
  {
   "cell_type": "markdown",
   "id": "29a177be",
   "metadata": {},
   "source": [
    "# installing lattest chrome driver"
   ]
  },
  {
   "cell_type": "code",
   "execution_count": 8,
   "id": "0bcced5b",
   "metadata": {},
   "outputs": [
    {
     "name": "stdout",
     "output_type": "stream",
     "text": [
      "Collecting chromedriver_autoinstaller\n",
      "  Downloading chromedriver_autoinstaller-0.4.0-py3-none-any.whl (6.5 kB)\n",
      "Installing collected packages: chromedriver_autoinstaller\n",
      "Successfully installed chromedriver_autoinstaller-0.4.0\n"
     ]
    },
    {
     "name": "stderr",
     "output_type": "stream",
     "text": [
      "\n",
      "[notice] A new release of pip available: 22.2.1 -> 22.3\n",
      "[notice] To update, run: python.exe -m pip install --upgrade pip\n"
     ]
    }
   ],
   "source": [
    "!pip install chromedriver_autoinstaller"
   ]
  },
  {
   "cell_type": "code",
   "execution_count": 10,
   "id": "6f8cac14",
   "metadata": {},
   "outputs": [
    {
     "data": {
      "text/plain": [
       "'F:\\\\Selenium\\\\venv\\\\lib\\\\site-packages\\\\chromedriver_autoinstaller\\\\106\\\\chromedriver.exe'"
      ]
     },
     "execution_count": 10,
     "metadata": {},
     "output_type": "execute_result"
    }
   ],
   "source": [
    "chromedriver_autoinstaller.install()"
   ]
  },
  {
   "cell_type": "markdown",
   "id": "cd9e3c8e",
   "metadata": {},
   "source": [
    "# importing requirements"
   ]
  },
  {
   "cell_type": "code",
   "execution_count": 1,
   "id": "cc910b5e",
   "metadata": {},
   "outputs": [],
   "source": [
    "import time\n",
    "from selenium import webdriver\n",
    "from selenium.webdriver.common.by import By\n",
    "from selenium.webdriver.common.keys import Keys\n",
    "from selenium.webdriver.support.ui import WebDriverWait\n",
    "from selenium.webdriver.support import expected_conditions as EC\n",
    "from selenium.webdriver.support.ui import WebDriverWait\n",
    "from selenium.webdriver.support.ui import Select\n",
    "import chromedriver_autoinstaller"
   ]
  },
  {
   "cell_type": "markdown",
   "id": "7adc3c33",
   "metadata": {},
   "source": [
    "# Setting Path for Selenium"
   ]
  },
  {
   "cell_type": "code",
   "execution_count": 12,
   "id": "d2134fb7",
   "metadata": {},
   "outputs": [
    {
     "name": "stderr",
     "output_type": "stream",
     "text": [
      "C:\\Users\\Rajneesh Yadav\\AppData\\Local\\Temp\\ipykernel_14088\\3456544317.py:2: DeprecationWarning: executable_path has been deprecated, please pass in a Service object\n",
      "  driver=webdriver.Chrome(executable_path=PATH)\n"
     ]
    }
   ],
   "source": [
    "PATH='F:\\\\Selenium\\\\venv\\\\lib\\\\site-packages\\\\chromedriver_autoinstaller\\\\106\\\\chromedriver.exe'\n",
    "driver=webdriver.Chrome(executable_path=PATH)\n",
    "driver.maximize_window()\n",
    "driver.get(\"https://clutch.co/agencies/ppc\")"
   ]
  },
  {
   "cell_type": "markdown",
   "id": "f1ce41c6",
   "metadata": {},
   "source": [
    "# Extracting differentfield "
   ]
  },
  {
   "cell_type": "code",
   "execution_count": 13,
   "id": "750c7b7b",
   "metadata": {},
   "outputs": [
    {
     "name": "stdout",
     "output_type": "stream",
     "text": [
      "We cut through disorganized market research by collecting real client feedback and analyzing industry data, to connect you to top PPC agencies around the world. Browse with confidence through our vetted list of top-ranking PPC agencies. View top Pay-Per-Click companies and filter by price, location, reviews, expertise and team size. Or checkout our PPC packages.\n",
      "------------------------\n",
      "16,579 Firms\n",
      "------------------------\n",
      "Reviews\n",
      "------------------------\n",
      "Leaders Matrix\n",
      "------------------------\n"
     ]
    },
    {
     "data": {
      "text/plain": [
       "'Sort by'"
      ]
     },
     "execution_count": 13,
     "metadata": {},
     "output_type": "execute_result"
    }
   ],
   "source": [
    "driver.title\n",
    "main=driver.find_element(By.TAG_NAME,\"main\")\n",
    "intro=driver.find_element(By.XPATH,\"html/body/main/div\")\n",
    "print(intro.text)\n",
    "print(\"------------------------\")\n",
    "firm=main.find_element(By.XPATH,\"div[2]/div/div/div\")\n",
    "print(firm.text)\n",
    "print(\"------------------------\")\n",
    "review=main.find_element(By.XPATH,\"div[2]/div/div/ul/li\")\n",
    "print(review.text)\n",
    "print(\"------------------------\")\n",
    "leader_matrix=main.find_element(By.XPATH,\"div[2]/div/div/ul/li[2]\")\n",
    "print(leader_matrix.text)\n",
    "print(\"------------------------\")\n",
    "sort_main=main.find_element(By.XPATH,\"div[2]/div/div[2]\")\n",
    "sort=sort_main.find_element(By.TAG_NAME,\"label\")\n",
    "sort.text"
   ]
  },
  {
   "cell_type": "code",
   "execution_count": 14,
   "id": "26bfd8db",
   "metadata": {},
   "outputs": [
    {
     "name": "stdout",
     "output_type": "stream",
     "text": [
      "0---Sponsored\n",
      "1---Verified\n",
      "2---Clutch Rank\n",
      "3---Number of Reviews\n",
      "4---Review Rating\n",
      "5---Company Name\n"
     ]
    }
   ],
   "source": [
    "t=sort_main.find_element(By.TAG_NAME,\"button\")\n",
    "t.click()\n",
    "dd=sort_main.find_elements(By.CSS_SELECTOR,\".facets_list__item__name\")\n",
    "time.sleep(20)\n",
    "dd[2].click()\n",
    "for i in range(6):\n",
    "    t.click()\n",
    "    time.sleep(2)\n",
    "    print(\"{}---{}\".format(i,dd[i].text))\n",
    "    dd[i].click()\n",
    "    time.sleep(2)"
   ]
  },
  {
   "cell_type": "code",
   "execution_count": null,
   "id": "7fc9b5f8",
   "metadata": {},
   "outputs": [],
   "source": [
    "dd_location_dict={}\n",
    "location_list=['India','China','USA','Japan','Australia']\n",
    "for i in location_list:\n",
    "    location_in=driver.find_element(By.ID,\"location_input\")\n",
    "    location_in.clear()\n",
    "    location_in.send_keys(i)\n",
    "    time.sleep(5)\n",
    "    dd_location_list=driver.find_element(By.ID,\"location_list\")\n",
    "    dd_location_list=dd_location_list.text.split('\\n')\n",
    "    dd_location_dict[i]=dd_location_list\n",
    "    location_in.send_keys(Keys.RETURN)\n",
    "    time.sleep(5)\n",
    "    location_in.click()\n",
    "    time.sleep(5)"
   ]
  },
  {
   "cell_type": "code",
   "execution_count": 12,
   "id": "79f98f38",
   "metadata": {},
   "outputs": [
    {
     "data": {
      "text/plain": [
       "{'India': ['India (2049)', 'Indiana, United States (70)'],\n",
       " 'China': ['China (16)'],\n",
       " 'USA': ['United States (5847)', 'Usa River, Tanzania (3)'],\n",
       " 'Japan': ['Japan (23)'],\n",
       " 'Australia': ['Australia (618)']}"
      ]
     },
     "execution_count": 12,
     "metadata": {},
     "output_type": "execute_result"
    }
   ],
   "source": [
    "dd_location_dict"
   ]
  },
  {
   "cell_type": "code",
   "execution_count": null,
   "id": "28ad74ac",
   "metadata": {},
   "outputs": [],
   "source": []
  },
  {
   "cell_type": "code",
   "execution_count": null,
   "id": "d77285df",
   "metadata": {},
   "outputs": [],
   "source": []
  },
  {
   "cell_type": "code",
   "execution_count": null,
   "id": "4bff6921",
   "metadata": {},
   "outputs": [],
   "source": []
  },
  {
   "cell_type": "code",
   "execution_count": null,
   "id": "e5ed2717",
   "metadata": {},
   "outputs": [],
   "source": []
  },
  {
   "cell_type": "code",
   "execution_count": null,
   "id": "1160b42d",
   "metadata": {},
   "outputs": [],
   "source": []
  },
  {
   "cell_type": "code",
   "execution_count": null,
   "id": "d87c33d8",
   "metadata": {},
   "outputs": [],
   "source": []
  },
  {
   "cell_type": "code",
   "execution_count": 136,
   "id": "17a41862",
   "metadata": {},
   "outputs": [
    {
     "name": "stdout",
     "output_type": "stream",
     "text": [
      "2---Clutch Rank\n"
     ]
    }
   ],
   "source": [
    "t=sort_main.find_element(By.TAG_NAME,\"button\")\n",
    "#t.click()\n",
    "dd=sort_main.find_elements(By.CSS_SELECTOR,\".facets_list__item__name\")\n",
    "t=sort_main.find_element(By.TAG_NAME,\"button\")\n",
    "dd=sort_main.find_elements(By.CSS_SELECTOR,\".facets_list__item\")\n",
    "for i in range(2,3):\n",
    "    t.click()\n",
    "    time.sleep(5)\n",
    "    print(\"{}---{}\".format(i,dd[i].text))\n",
    "    dd[i].click()\n",
    "    time.sleep(5)\n",
    "    "
   ]
  },
  {
   "cell_type": "code",
   "execution_count": null,
   "id": "8b2589c8",
   "metadata": {},
   "outputs": [],
   "source": []
  },
  {
   "cell_type": "code",
   "execution_count": null,
   "id": "31757b03",
   "metadata": {},
   "outputs": [],
   "source": []
  },
  {
   "cell_type": "code",
   "execution_count": null,
   "id": "ece97850",
   "metadata": {},
   "outputs": [],
   "source": []
  }
 ],
 "metadata": {
  "kernelspec": {
   "display_name": "Python 3 (ipykernel)",
   "language": "python",
   "name": "python3"
  },
  "language_info": {
   "codemirror_mode": {
    "name": "ipython",
    "version": 3
   },
   "file_extension": ".py",
   "mimetype": "text/x-python",
   "name": "python",
   "nbconvert_exporter": "python",
   "pygments_lexer": "ipython3",
   "version": "3.10.5"
  }
 },
 "nbformat": 4,
 "nbformat_minor": 5
}
